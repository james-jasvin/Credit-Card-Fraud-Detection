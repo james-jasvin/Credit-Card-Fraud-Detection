{
 "cells": [
  {
   "cell_type": "markdown",
   "metadata": {},
   "source": [
    "<h3> Before anything I wanted to shoutout <a href=\"https://www.kaggle.com/janiobachmann/credit-fraud-dealing-with-imbalanced-datasets/\"> this Kernel by Janio Martinez </a> </h3>\n",
    "    \n",
    "It has been huge in helping me understand what was going on and was also a great source for other references that I could use to understand how to apply machine learning concepts to imbalanced datasets."
   ]
  },
  {
   "cell_type": "code",
   "execution_count": 18,
   "metadata": {
    "_cell_guid": "b1076dfc-b9ad-4769-8c92-a6c4dae69d19",
    "_uuid": "8f2839f25d086af736a60e9eeb907d3b93b6e0e5"
   },
   "outputs": [],
   "source": [
    "# This Python 3 environment comes with many helpful analytics libraries installed\n",
    "# It is defined by the kaggle/python docker image: https://github.com/kaggle/docker-python\n",
    "# For example, here's several helpful packages to load in \n",
    "\n",
    "# Imported Libraries\n",
    "import numpy as np # linear algebra\n",
    "import pandas as pd # data processing, CSV file I/O (e.g. pd.read_csv)\n",
    "\n",
    "# Classifier Library\n",
    "from sklearn.linear_model import LogisticRegression\n",
    "\n",
    "# Model Selection & Pipelines\n",
    "from sklearn.model_selection import train_test_split\n",
    "from sklearn.pipeline import make_pipeline\n",
    "from imblearn.pipeline import make_pipeline as make_pipeline_imb\n",
    "from sklearn.model_selection import KFold, StratifiedKFold\n",
    "\n",
    "# Metrics\n",
    "from imblearn.metrics import classification_report_imbalanced\n",
    "from sklearn.metrics import precision_score, recall_score, f1_score, roc_auc_score, accuracy_score, classification_report\n",
    "\n",
    "import warnings\n",
    "warnings.filterwarnings(\"ignore\")"
   ]
  },
  {
   "cell_type": "code",
   "execution_count": 19,
   "metadata": {
    "_cell_guid": "79c7e3d0-c299-4dcb-8224-4455121ee9b0",
    "_uuid": "d629ff2d2480ee46fbb7e2d37f6b5fab8052498a"
   },
   "outputs": [],
   "source": [
    "import matplotlib.pyplot as plt\n",
    "import seaborn as sns\n",
    "\n",
    "%matplotlib inline"
   ]
  },
  {
   "cell_type": "code",
   "execution_count": 20,
   "metadata": {},
   "outputs": [],
   "source": [
    "data = pd.read_csv('creditcard.csv')"
   ]
  },
  {
   "cell_type": "code",
   "execution_count": 21,
   "metadata": {},
   "outputs": [
    {
     "data": {
      "text/html": [
       "<div>\n",
       "<style scoped>\n",
       "    .dataframe tbody tr th:only-of-type {\n",
       "        vertical-align: middle;\n",
       "    }\n",
       "\n",
       "    .dataframe tbody tr th {\n",
       "        vertical-align: top;\n",
       "    }\n",
       "\n",
       "    .dataframe thead th {\n",
       "        text-align: right;\n",
       "    }\n",
       "</style>\n",
       "<table border=\"1\" class=\"dataframe\">\n",
       "  <thead>\n",
       "    <tr style=\"text-align: right;\">\n",
       "      <th></th>\n",
       "      <th>Time</th>\n",
       "      <th>V1</th>\n",
       "      <th>V2</th>\n",
       "      <th>V3</th>\n",
       "      <th>V4</th>\n",
       "      <th>V5</th>\n",
       "      <th>V6</th>\n",
       "      <th>V7</th>\n",
       "      <th>V8</th>\n",
       "      <th>V9</th>\n",
       "      <th>...</th>\n",
       "      <th>V21</th>\n",
       "      <th>V22</th>\n",
       "      <th>V23</th>\n",
       "      <th>V24</th>\n",
       "      <th>V25</th>\n",
       "      <th>V26</th>\n",
       "      <th>V27</th>\n",
       "      <th>V28</th>\n",
       "      <th>Amount</th>\n",
       "      <th>Class</th>\n",
       "    </tr>\n",
       "  </thead>\n",
       "  <tbody>\n",
       "    <tr>\n",
       "      <th>0</th>\n",
       "      <td>0.0</td>\n",
       "      <td>-1.359807</td>\n",
       "      <td>-0.072781</td>\n",
       "      <td>2.536347</td>\n",
       "      <td>1.378155</td>\n",
       "      <td>-0.338321</td>\n",
       "      <td>0.462388</td>\n",
       "      <td>0.239599</td>\n",
       "      <td>0.098698</td>\n",
       "      <td>0.363787</td>\n",
       "      <td>...</td>\n",
       "      <td>-0.018307</td>\n",
       "      <td>0.277838</td>\n",
       "      <td>-0.110474</td>\n",
       "      <td>0.066928</td>\n",
       "      <td>0.128539</td>\n",
       "      <td>-0.189115</td>\n",
       "      <td>0.133558</td>\n",
       "      <td>-0.021053</td>\n",
       "      <td>149.62</td>\n",
       "      <td>0</td>\n",
       "    </tr>\n",
       "    <tr>\n",
       "      <th>1</th>\n",
       "      <td>0.0</td>\n",
       "      <td>1.191857</td>\n",
       "      <td>0.266151</td>\n",
       "      <td>0.166480</td>\n",
       "      <td>0.448154</td>\n",
       "      <td>0.060018</td>\n",
       "      <td>-0.082361</td>\n",
       "      <td>-0.078803</td>\n",
       "      <td>0.085102</td>\n",
       "      <td>-0.255425</td>\n",
       "      <td>...</td>\n",
       "      <td>-0.225775</td>\n",
       "      <td>-0.638672</td>\n",
       "      <td>0.101288</td>\n",
       "      <td>-0.339846</td>\n",
       "      <td>0.167170</td>\n",
       "      <td>0.125895</td>\n",
       "      <td>-0.008983</td>\n",
       "      <td>0.014724</td>\n",
       "      <td>2.69</td>\n",
       "      <td>0</td>\n",
       "    </tr>\n",
       "    <tr>\n",
       "      <th>2</th>\n",
       "      <td>1.0</td>\n",
       "      <td>-1.358354</td>\n",
       "      <td>-1.340163</td>\n",
       "      <td>1.773209</td>\n",
       "      <td>0.379780</td>\n",
       "      <td>-0.503198</td>\n",
       "      <td>1.800499</td>\n",
       "      <td>0.791461</td>\n",
       "      <td>0.247676</td>\n",
       "      <td>-1.514654</td>\n",
       "      <td>...</td>\n",
       "      <td>0.247998</td>\n",
       "      <td>0.771679</td>\n",
       "      <td>0.909412</td>\n",
       "      <td>-0.689281</td>\n",
       "      <td>-0.327642</td>\n",
       "      <td>-0.139097</td>\n",
       "      <td>-0.055353</td>\n",
       "      <td>-0.059752</td>\n",
       "      <td>378.66</td>\n",
       "      <td>0</td>\n",
       "    </tr>\n",
       "    <tr>\n",
       "      <th>3</th>\n",
       "      <td>1.0</td>\n",
       "      <td>-0.966272</td>\n",
       "      <td>-0.185226</td>\n",
       "      <td>1.792993</td>\n",
       "      <td>-0.863291</td>\n",
       "      <td>-0.010309</td>\n",
       "      <td>1.247203</td>\n",
       "      <td>0.237609</td>\n",
       "      <td>0.377436</td>\n",
       "      <td>-1.387024</td>\n",
       "      <td>...</td>\n",
       "      <td>-0.108300</td>\n",
       "      <td>0.005274</td>\n",
       "      <td>-0.190321</td>\n",
       "      <td>-1.175575</td>\n",
       "      <td>0.647376</td>\n",
       "      <td>-0.221929</td>\n",
       "      <td>0.062723</td>\n",
       "      <td>0.061458</td>\n",
       "      <td>123.50</td>\n",
       "      <td>0</td>\n",
       "    </tr>\n",
       "    <tr>\n",
       "      <th>4</th>\n",
       "      <td>2.0</td>\n",
       "      <td>-1.158233</td>\n",
       "      <td>0.877737</td>\n",
       "      <td>1.548718</td>\n",
       "      <td>0.403034</td>\n",
       "      <td>-0.407193</td>\n",
       "      <td>0.095921</td>\n",
       "      <td>0.592941</td>\n",
       "      <td>-0.270533</td>\n",
       "      <td>0.817739</td>\n",
       "      <td>...</td>\n",
       "      <td>-0.009431</td>\n",
       "      <td>0.798278</td>\n",
       "      <td>-0.137458</td>\n",
       "      <td>0.141267</td>\n",
       "      <td>-0.206010</td>\n",
       "      <td>0.502292</td>\n",
       "      <td>0.219422</td>\n",
       "      <td>0.215153</td>\n",
       "      <td>69.99</td>\n",
       "      <td>0</td>\n",
       "    </tr>\n",
       "  </tbody>\n",
       "</table>\n",
       "<p>5 rows × 31 columns</p>\n",
       "</div>"
      ],
      "text/plain": [
       "   Time        V1        V2        V3        V4        V5        V6        V7  \\\n",
       "0   0.0 -1.359807 -0.072781  2.536347  1.378155 -0.338321  0.462388  0.239599   \n",
       "1   0.0  1.191857  0.266151  0.166480  0.448154  0.060018 -0.082361 -0.078803   \n",
       "2   1.0 -1.358354 -1.340163  1.773209  0.379780 -0.503198  1.800499  0.791461   \n",
       "3   1.0 -0.966272 -0.185226  1.792993 -0.863291 -0.010309  1.247203  0.237609   \n",
       "4   2.0 -1.158233  0.877737  1.548718  0.403034 -0.407193  0.095921  0.592941   \n",
       "\n",
       "         V8        V9  ...       V21       V22       V23       V24       V25  \\\n",
       "0  0.098698  0.363787  ... -0.018307  0.277838 -0.110474  0.066928  0.128539   \n",
       "1  0.085102 -0.255425  ... -0.225775 -0.638672  0.101288 -0.339846  0.167170   \n",
       "2  0.247676 -1.514654  ...  0.247998  0.771679  0.909412 -0.689281 -0.327642   \n",
       "3  0.377436 -1.387024  ... -0.108300  0.005274 -0.190321 -1.175575  0.647376   \n",
       "4 -0.270533  0.817739  ... -0.009431  0.798278 -0.137458  0.141267 -0.206010   \n",
       "\n",
       "        V26       V27       V28  Amount  Class  \n",
       "0 -0.189115  0.133558 -0.021053  149.62      0  \n",
       "1  0.125895 -0.008983  0.014724    2.69      0  \n",
       "2 -0.139097 -0.055353 -0.059752  378.66      0  \n",
       "3 -0.221929  0.062723  0.061458  123.50      0  \n",
       "4  0.502292  0.219422  0.215153   69.99      0  \n",
       "\n",
       "[5 rows x 31 columns]"
      ]
     },
     "execution_count": 21,
     "metadata": {},
     "output_type": "execute_result"
    }
   ],
   "source": [
    "data.head()"
   ]
  },
  {
   "cell_type": "code",
   "execution_count": 22,
   "metadata": {},
   "outputs": [
    {
     "name": "stdout",
     "output_type": "stream",
     "text": [
      "<class 'pandas.core.frame.DataFrame'>\n",
      "RangeIndex: 284807 entries, 0 to 284806\n",
      "Data columns (total 31 columns):\n",
      "Time      284807 non-null float64\n",
      "V1        284807 non-null float64\n",
      "V2        284807 non-null float64\n",
      "V3        284807 non-null float64\n",
      "V4        284807 non-null float64\n",
      "V5        284807 non-null float64\n",
      "V6        284807 non-null float64\n",
      "V7        284807 non-null float64\n",
      "V8        284807 non-null float64\n",
      "V9        284807 non-null float64\n",
      "V10       284807 non-null float64\n",
      "V11       284807 non-null float64\n",
      "V12       284807 non-null float64\n",
      "V13       284807 non-null float64\n",
      "V14       284807 non-null float64\n",
      "V15       284807 non-null float64\n",
      "V16       284807 non-null float64\n",
      "V17       284807 non-null float64\n",
      "V18       284807 non-null float64\n",
      "V19       284807 non-null float64\n",
      "V20       284807 non-null float64\n",
      "V21       284807 non-null float64\n",
      "V22       284807 non-null float64\n",
      "V23       284807 non-null float64\n",
      "V24       284807 non-null float64\n",
      "V25       284807 non-null float64\n",
      "V26       284807 non-null float64\n",
      "V27       284807 non-null float64\n",
      "V28       284807 non-null float64\n",
      "Amount    284807 non-null float64\n",
      "Class     284807 non-null int64\n",
      "dtypes: float64(30), int64(1)\n",
      "memory usage: 67.4 MB\n"
     ]
    }
   ],
   "source": [
    "data.info()"
   ]
  },
  {
   "cell_type": "code",
   "execution_count": 23,
   "metadata": {},
   "outputs": [
    {
     "data": {
      "text/html": [
       "<div>\n",
       "<style scoped>\n",
       "    .dataframe tbody tr th:only-of-type {\n",
       "        vertical-align: middle;\n",
       "    }\n",
       "\n",
       "    .dataframe tbody tr th {\n",
       "        vertical-align: top;\n",
       "    }\n",
       "\n",
       "    .dataframe thead th {\n",
       "        text-align: right;\n",
       "    }\n",
       "</style>\n",
       "<table border=\"1\" class=\"dataframe\">\n",
       "  <thead>\n",
       "    <tr style=\"text-align: right;\">\n",
       "      <th></th>\n",
       "      <th>Time</th>\n",
       "      <th>V1</th>\n",
       "      <th>V2</th>\n",
       "      <th>V3</th>\n",
       "      <th>V4</th>\n",
       "      <th>V5</th>\n",
       "      <th>V6</th>\n",
       "      <th>V7</th>\n",
       "      <th>V8</th>\n",
       "      <th>V9</th>\n",
       "      <th>...</th>\n",
       "      <th>V21</th>\n",
       "      <th>V22</th>\n",
       "      <th>V23</th>\n",
       "      <th>V24</th>\n",
       "      <th>V25</th>\n",
       "      <th>V26</th>\n",
       "      <th>V27</th>\n",
       "      <th>V28</th>\n",
       "      <th>Amount</th>\n",
       "      <th>Class</th>\n",
       "    </tr>\n",
       "  </thead>\n",
       "  <tbody>\n",
       "    <tr>\n",
       "      <th>count</th>\n",
       "      <td>284807.000000</td>\n",
       "      <td>2.848070e+05</td>\n",
       "      <td>2.848070e+05</td>\n",
       "      <td>2.848070e+05</td>\n",
       "      <td>2.848070e+05</td>\n",
       "      <td>2.848070e+05</td>\n",
       "      <td>2.848070e+05</td>\n",
       "      <td>2.848070e+05</td>\n",
       "      <td>2.848070e+05</td>\n",
       "      <td>2.848070e+05</td>\n",
       "      <td>...</td>\n",
       "      <td>2.848070e+05</td>\n",
       "      <td>2.848070e+05</td>\n",
       "      <td>2.848070e+05</td>\n",
       "      <td>2.848070e+05</td>\n",
       "      <td>2.848070e+05</td>\n",
       "      <td>2.848070e+05</td>\n",
       "      <td>2.848070e+05</td>\n",
       "      <td>2.848070e+05</td>\n",
       "      <td>284807.000000</td>\n",
       "      <td>284807.000000</td>\n",
       "    </tr>\n",
       "    <tr>\n",
       "      <th>mean</th>\n",
       "      <td>94813.859575</td>\n",
       "      <td>1.165980e-15</td>\n",
       "      <td>3.416908e-16</td>\n",
       "      <td>-1.373150e-15</td>\n",
       "      <td>2.086869e-15</td>\n",
       "      <td>9.604066e-16</td>\n",
       "      <td>1.490107e-15</td>\n",
       "      <td>-5.556467e-16</td>\n",
       "      <td>1.177556e-16</td>\n",
       "      <td>-2.406455e-15</td>\n",
       "      <td>...</td>\n",
       "      <td>1.656562e-16</td>\n",
       "      <td>-3.444850e-16</td>\n",
       "      <td>2.578648e-16</td>\n",
       "      <td>4.471968e-15</td>\n",
       "      <td>5.340915e-16</td>\n",
       "      <td>1.687098e-15</td>\n",
       "      <td>-3.666453e-16</td>\n",
       "      <td>-1.220404e-16</td>\n",
       "      <td>88.349619</td>\n",
       "      <td>0.001727</td>\n",
       "    </tr>\n",
       "    <tr>\n",
       "      <th>std</th>\n",
       "      <td>47488.145955</td>\n",
       "      <td>1.958696e+00</td>\n",
       "      <td>1.651309e+00</td>\n",
       "      <td>1.516255e+00</td>\n",
       "      <td>1.415869e+00</td>\n",
       "      <td>1.380247e+00</td>\n",
       "      <td>1.332271e+00</td>\n",
       "      <td>1.237094e+00</td>\n",
       "      <td>1.194353e+00</td>\n",
       "      <td>1.098632e+00</td>\n",
       "      <td>...</td>\n",
       "      <td>7.345240e-01</td>\n",
       "      <td>7.257016e-01</td>\n",
       "      <td>6.244603e-01</td>\n",
       "      <td>6.056471e-01</td>\n",
       "      <td>5.212781e-01</td>\n",
       "      <td>4.822270e-01</td>\n",
       "      <td>4.036325e-01</td>\n",
       "      <td>3.300833e-01</td>\n",
       "      <td>250.120109</td>\n",
       "      <td>0.041527</td>\n",
       "    </tr>\n",
       "    <tr>\n",
       "      <th>min</th>\n",
       "      <td>0.000000</td>\n",
       "      <td>-5.640751e+01</td>\n",
       "      <td>-7.271573e+01</td>\n",
       "      <td>-4.832559e+01</td>\n",
       "      <td>-5.683171e+00</td>\n",
       "      <td>-1.137433e+02</td>\n",
       "      <td>-2.616051e+01</td>\n",
       "      <td>-4.355724e+01</td>\n",
       "      <td>-7.321672e+01</td>\n",
       "      <td>-1.343407e+01</td>\n",
       "      <td>...</td>\n",
       "      <td>-3.483038e+01</td>\n",
       "      <td>-1.093314e+01</td>\n",
       "      <td>-4.480774e+01</td>\n",
       "      <td>-2.836627e+00</td>\n",
       "      <td>-1.029540e+01</td>\n",
       "      <td>-2.604551e+00</td>\n",
       "      <td>-2.256568e+01</td>\n",
       "      <td>-1.543008e+01</td>\n",
       "      <td>0.000000</td>\n",
       "      <td>0.000000</td>\n",
       "    </tr>\n",
       "    <tr>\n",
       "      <th>25%</th>\n",
       "      <td>54201.500000</td>\n",
       "      <td>-9.203734e-01</td>\n",
       "      <td>-5.985499e-01</td>\n",
       "      <td>-8.903648e-01</td>\n",
       "      <td>-8.486401e-01</td>\n",
       "      <td>-6.915971e-01</td>\n",
       "      <td>-7.682956e-01</td>\n",
       "      <td>-5.540759e-01</td>\n",
       "      <td>-2.086297e-01</td>\n",
       "      <td>-6.430976e-01</td>\n",
       "      <td>...</td>\n",
       "      <td>-2.283949e-01</td>\n",
       "      <td>-5.423504e-01</td>\n",
       "      <td>-1.618463e-01</td>\n",
       "      <td>-3.545861e-01</td>\n",
       "      <td>-3.171451e-01</td>\n",
       "      <td>-3.269839e-01</td>\n",
       "      <td>-7.083953e-02</td>\n",
       "      <td>-5.295979e-02</td>\n",
       "      <td>5.600000</td>\n",
       "      <td>0.000000</td>\n",
       "    </tr>\n",
       "    <tr>\n",
       "      <th>50%</th>\n",
       "      <td>84692.000000</td>\n",
       "      <td>1.810880e-02</td>\n",
       "      <td>6.548556e-02</td>\n",
       "      <td>1.798463e-01</td>\n",
       "      <td>-1.984653e-02</td>\n",
       "      <td>-5.433583e-02</td>\n",
       "      <td>-2.741871e-01</td>\n",
       "      <td>4.010308e-02</td>\n",
       "      <td>2.235804e-02</td>\n",
       "      <td>-5.142873e-02</td>\n",
       "      <td>...</td>\n",
       "      <td>-2.945017e-02</td>\n",
       "      <td>6.781943e-03</td>\n",
       "      <td>-1.119293e-02</td>\n",
       "      <td>4.097606e-02</td>\n",
       "      <td>1.659350e-02</td>\n",
       "      <td>-5.213911e-02</td>\n",
       "      <td>1.342146e-03</td>\n",
       "      <td>1.124383e-02</td>\n",
       "      <td>22.000000</td>\n",
       "      <td>0.000000</td>\n",
       "    </tr>\n",
       "    <tr>\n",
       "      <th>75%</th>\n",
       "      <td>139320.500000</td>\n",
       "      <td>1.315642e+00</td>\n",
       "      <td>8.037239e-01</td>\n",
       "      <td>1.027196e+00</td>\n",
       "      <td>7.433413e-01</td>\n",
       "      <td>6.119264e-01</td>\n",
       "      <td>3.985649e-01</td>\n",
       "      <td>5.704361e-01</td>\n",
       "      <td>3.273459e-01</td>\n",
       "      <td>5.971390e-01</td>\n",
       "      <td>...</td>\n",
       "      <td>1.863772e-01</td>\n",
       "      <td>5.285536e-01</td>\n",
       "      <td>1.476421e-01</td>\n",
       "      <td>4.395266e-01</td>\n",
       "      <td>3.507156e-01</td>\n",
       "      <td>2.409522e-01</td>\n",
       "      <td>9.104512e-02</td>\n",
       "      <td>7.827995e-02</td>\n",
       "      <td>77.165000</td>\n",
       "      <td>0.000000</td>\n",
       "    </tr>\n",
       "    <tr>\n",
       "      <th>max</th>\n",
       "      <td>172792.000000</td>\n",
       "      <td>2.454930e+00</td>\n",
       "      <td>2.205773e+01</td>\n",
       "      <td>9.382558e+00</td>\n",
       "      <td>1.687534e+01</td>\n",
       "      <td>3.480167e+01</td>\n",
       "      <td>7.330163e+01</td>\n",
       "      <td>1.205895e+02</td>\n",
       "      <td>2.000721e+01</td>\n",
       "      <td>1.559499e+01</td>\n",
       "      <td>...</td>\n",
       "      <td>2.720284e+01</td>\n",
       "      <td>1.050309e+01</td>\n",
       "      <td>2.252841e+01</td>\n",
       "      <td>4.584549e+00</td>\n",
       "      <td>7.519589e+00</td>\n",
       "      <td>3.517346e+00</td>\n",
       "      <td>3.161220e+01</td>\n",
       "      <td>3.384781e+01</td>\n",
       "      <td>25691.160000</td>\n",
       "      <td>1.000000</td>\n",
       "    </tr>\n",
       "  </tbody>\n",
       "</table>\n",
       "<p>8 rows × 31 columns</p>\n",
       "</div>"
      ],
      "text/plain": [
       "                Time            V1            V2            V3            V4  \\\n",
       "count  284807.000000  2.848070e+05  2.848070e+05  2.848070e+05  2.848070e+05   \n",
       "mean    94813.859575  1.165980e-15  3.416908e-16 -1.373150e-15  2.086869e-15   \n",
       "std     47488.145955  1.958696e+00  1.651309e+00  1.516255e+00  1.415869e+00   \n",
       "min         0.000000 -5.640751e+01 -7.271573e+01 -4.832559e+01 -5.683171e+00   \n",
       "25%     54201.500000 -9.203734e-01 -5.985499e-01 -8.903648e-01 -8.486401e-01   \n",
       "50%     84692.000000  1.810880e-02  6.548556e-02  1.798463e-01 -1.984653e-02   \n",
       "75%    139320.500000  1.315642e+00  8.037239e-01  1.027196e+00  7.433413e-01   \n",
       "max    172792.000000  2.454930e+00  2.205773e+01  9.382558e+00  1.687534e+01   \n",
       "\n",
       "                 V5            V6            V7            V8            V9  \\\n",
       "count  2.848070e+05  2.848070e+05  2.848070e+05  2.848070e+05  2.848070e+05   \n",
       "mean   9.604066e-16  1.490107e-15 -5.556467e-16  1.177556e-16 -2.406455e-15   \n",
       "std    1.380247e+00  1.332271e+00  1.237094e+00  1.194353e+00  1.098632e+00   \n",
       "min   -1.137433e+02 -2.616051e+01 -4.355724e+01 -7.321672e+01 -1.343407e+01   \n",
       "25%   -6.915971e-01 -7.682956e-01 -5.540759e-01 -2.086297e-01 -6.430976e-01   \n",
       "50%   -5.433583e-02 -2.741871e-01  4.010308e-02  2.235804e-02 -5.142873e-02   \n",
       "75%    6.119264e-01  3.985649e-01  5.704361e-01  3.273459e-01  5.971390e-01   \n",
       "max    3.480167e+01  7.330163e+01  1.205895e+02  2.000721e+01  1.559499e+01   \n",
       "\n",
       "       ...           V21           V22           V23           V24  \\\n",
       "count  ...  2.848070e+05  2.848070e+05  2.848070e+05  2.848070e+05   \n",
       "mean   ...  1.656562e-16 -3.444850e-16  2.578648e-16  4.471968e-15   \n",
       "std    ...  7.345240e-01  7.257016e-01  6.244603e-01  6.056471e-01   \n",
       "min    ... -3.483038e+01 -1.093314e+01 -4.480774e+01 -2.836627e+00   \n",
       "25%    ... -2.283949e-01 -5.423504e-01 -1.618463e-01 -3.545861e-01   \n",
       "50%    ... -2.945017e-02  6.781943e-03 -1.119293e-02  4.097606e-02   \n",
       "75%    ...  1.863772e-01  5.285536e-01  1.476421e-01  4.395266e-01   \n",
       "max    ...  2.720284e+01  1.050309e+01  2.252841e+01  4.584549e+00   \n",
       "\n",
       "                V25           V26           V27           V28         Amount  \\\n",
       "count  2.848070e+05  2.848070e+05  2.848070e+05  2.848070e+05  284807.000000   \n",
       "mean   5.340915e-16  1.687098e-15 -3.666453e-16 -1.220404e-16      88.349619   \n",
       "std    5.212781e-01  4.822270e-01  4.036325e-01  3.300833e-01     250.120109   \n",
       "min   -1.029540e+01 -2.604551e+00 -2.256568e+01 -1.543008e+01       0.000000   \n",
       "25%   -3.171451e-01 -3.269839e-01 -7.083953e-02 -5.295979e-02       5.600000   \n",
       "50%    1.659350e-02 -5.213911e-02  1.342146e-03  1.124383e-02      22.000000   \n",
       "75%    3.507156e-01  2.409522e-01  9.104512e-02  7.827995e-02      77.165000   \n",
       "max    7.519589e+00  3.517346e+00  3.161220e+01  3.384781e+01   25691.160000   \n",
       "\n",
       "               Class  \n",
       "count  284807.000000  \n",
       "mean        0.001727  \n",
       "std         0.041527  \n",
       "min         0.000000  \n",
       "25%         0.000000  \n",
       "50%         0.000000  \n",
       "75%         0.000000  \n",
       "max         1.000000  \n",
       "\n",
       "[8 rows x 31 columns]"
      ]
     },
     "execution_count": 23,
     "metadata": {},
     "output_type": "execute_result"
    }
   ],
   "source": [
    "data.describe()"
   ]
  },
  {
   "cell_type": "code",
   "execution_count": 24,
   "metadata": {},
   "outputs": [
    {
     "data": {
      "image/png": "[encoded data removed]",
      "text/plain": [
       "<Figure size 432x288 with 1 Axes>"
      ]
     },
     "metadata": {
      "needs_background": "light"
     },
     "output_type": "display_data"
    }
   ],
   "source": [
    "sns.heatmap(data.isnull(), cbar=False, yticklabels=False, cmap='viridis')\n",
    "plt.tight_layout()"
   ]
  },
  {
   "cell_type": "markdown",
   "metadata": {},
   "source": [
    "# There are no missing values in the dataset.\n"
   ]
  },
  {
   "cell_type": "code",
   "execution_count": 25,
   "metadata": {},
   "outputs": [
    {
     "name": "stdout",
     "output_type": "stream",
     "text": [
      "AxesSubplot(0.125,0.125;0.775x0.755)\n"
     ]
    },
    {
     "data": {
      "text/plain": [
       "0    99.827251\n",
       "1     0.172749\n",
       "Name: Class, dtype: float64"
      ]
     },
     "execution_count": 25,
     "metadata": {},
     "output_type": "execute_result"
    },
    {
     "data": {
      "image/png": "[encoded data removed]",
      "text/plain": [
       "<Figure size 720x432 with 1 Axes>"
      ]
     },
     "metadata": {
      "needs_background": "light"
     },
     "output_type": "display_data"
    }
   ],
   "source": [
    "plt.figure(figsize=(10,6))\n",
    "print(sns.countplot(x='Class', data=data))\n",
    "data['Class'].value_counts(normalize=True) * 100"
   ]
  },
  {
   "cell_type": "markdown",
   "metadata": {},
   "source": [
    "# Dataset is highly imbalanced\n",
    "<h3> 99.83% Non-Fraudulent Transactions\n",
    "\n",
    "0.173% Fraudulent Transactions\n",
    "\n",
    "Hence, we require either oversampling or undersampling </h3>"
   ]
  },
  {
   "cell_type": "markdown",
   "metadata": {},
   "source": [
    "# Distribution of Amount & Time columns"
   ]
  },
  {
   "cell_type": "code",
   "execution_count": 26,
   "metadata": {},
   "outputs": [
    {
     "data": {
      "text/plain": [
       "<matplotlib.axes._subplots.AxesSubplot at 0x27e6068ff10>"
      ]
     },
     "execution_count": 26,
     "metadata": {},
     "output_type": "execute_result"
    },
    {
     "data": {
      "image/png": "[encoded data removed]",
      "text/plain": [
       "<Figure size 720x432 with 1 Axes>"
      ]
     },
     "metadata": {
      "needs_background": "light"
     },
     "output_type": "display_data"
    }
   ],
   "source": [
    "plt.figure(figsize=(10, 6))\n",
    "sns.distplot(data['Amount'], bins=100)"
   ]
  },
  {
   "cell_type": "markdown",
   "metadata": {},
   "source": [
    "<h3> Amount of transactions are generally very low, most are less than 1000 and max. tend to be around 1500 </h3>"
   ]
  },
  {
   "cell_type": "code",
   "execution_count": 27,
   "metadata": {},
   "outputs": [
    {
     "data": {
      "text/plain": [
       "<matplotlib.axes._subplots.AxesSubplot at 0x27e5b4cfd30>"
      ]
     },
     "execution_count": 27,
     "metadata": {},
     "output_type": "execute_result"
    },
    {
     "data": {
      "image/png": "[encoded data removed]",
      "text/plain": [
       "<Figure size 432x288 with 1 Axes>"
      ]
     },
     "metadata": {
      "needs_background": "light"
     },
     "output_type": "display_data"
    }
   ],
   "source": [
    "sns.distplot(data['Time'])"
   ]
  },
  {
   "cell_type": "markdown",
   "metadata": {},
   "source": [
    "# Performing train test split\n",
    "\n",
    "Setting the stratify parameter of train_test_split to y <br> This will ensure that y_train and y_test will have approximately the same distribution of labels (i.e. Fraud and Non-Fraud Transactions) as you can see in the output"
   ]
  },
  {
   "cell_type": "code",
   "execution_count": 28,
   "metadata": {},
   "outputs": [
    {
     "name": "stdout",
     "output_type": "stream",
     "text": [
      "Class Label Distribution for y_train: \n",
      "0    0.998271\n",
      "1    0.001729\n",
      "Name: Class, dtype: float64\n",
      "Class Label Distribution for y_test: \n",
      "0    0.99828\n",
      "1    0.00172\n",
      "Name: Class, dtype: float64\n"
     ]
    }
   ],
   "source": [
    "X = data.drop('Class', axis=1)\n",
    "y = data['Class']\n",
    "\n",
    "# train_index and test_index are a list of indices obtained from the StratifiedKFold.split() method\n",
    "# We perform iloc on the X and y dataframes to get X_train, X_test and y_train, y_test\n",
    "# and both y_test and y_train have same distribution of 0 and 1 class values, i.e, approx. 99.82% and 0.17% respectively\n",
    "X_train, X_test, y_train, y_test = train_test_split(X, y, test_size=0.2, stratify=y)\n",
    "    \n",
    "print(\"Class Label Distribution for y_train: \")\n",
    "print(y_train.value_counts(normalize=True))\n",
    "print(\"Class Label Distribution for y_test: \")\n",
    "print(y_test.value_counts(normalize=True))"
   ]
  },
  {
   "cell_type": "markdown",
   "metadata": {},
   "source": [
    "<h2> Thus we get train and test splits with the same mean value for the response variable (Class) </h2>"
   ]
  },
  {
   "cell_type": "markdown",
   "metadata": {},
   "source": [
    "A tip that I found while researching on how to implement a model on such a dataset is that instead of directly scaling the entire dataset using one of the scaler objects, you should perform the foll. steps:\n",
    "1. Perform train test split\n",
    "2. Fit the Scaler object on the train data\n",
    "3. Now scale the train as well as the test data on this Scaler that was fit on the <b> train data only. </b>\n",
    "\n",
    "The reason why you should do this is that now, scaling is done using the information obtained from the training data only thereby reducing the bias that would been incurred had we directly scaled the entire dataset at once."
   ]
  },
  {
   "cell_type": "code",
   "execution_count": 29,
   "metadata": {},
   "outputs": [
    {
     "data": {
      "text/html": [
       "<div>\n",
       "<style scoped>\n",
       "    .dataframe tbody tr th:only-of-type {\n",
       "        vertical-align: middle;\n",
       "    }\n",
       "\n",
       "    .dataframe tbody tr th {\n",
       "        vertical-align: top;\n",
       "    }\n",
       "\n",
       "    .dataframe thead th {\n",
       "        text-align: right;\n",
       "    }\n",
       "</style>\n",
       "<table border=\"1\" class=\"dataframe\">\n",
       "  <thead>\n",
       "    <tr style=\"text-align: right;\">\n",
       "      <th></th>\n",
       "      <th>Time</th>\n",
       "      <th>V1</th>\n",
       "      <th>V2</th>\n",
       "      <th>V3</th>\n",
       "      <th>V4</th>\n",
       "      <th>V5</th>\n",
       "      <th>V6</th>\n",
       "      <th>V7</th>\n",
       "      <th>V8</th>\n",
       "      <th>V9</th>\n",
       "      <th>...</th>\n",
       "      <th>V20</th>\n",
       "      <th>V21</th>\n",
       "      <th>V22</th>\n",
       "      <th>V23</th>\n",
       "      <th>V24</th>\n",
       "      <th>V25</th>\n",
       "      <th>V26</th>\n",
       "      <th>V27</th>\n",
       "      <th>V28</th>\n",
       "      <th>Amount</th>\n",
       "    </tr>\n",
       "  </thead>\n",
       "  <tbody>\n",
       "    <tr>\n",
       "      <th>0</th>\n",
       "      <td>-0.363905</td>\n",
       "      <td>-0.507396</td>\n",
       "      <td>-0.303488</td>\n",
       "      <td>0.172905</td>\n",
       "      <td>0.862814</td>\n",
       "      <td>0.967363</td>\n",
       "      <td>0.719619</td>\n",
       "      <td>0.950105</td>\n",
       "      <td>-1.000020</td>\n",
       "      <td>0.039252</td>\n",
       "      <td>...</td>\n",
       "      <td>0.373636</td>\n",
       "      <td>-0.410086</td>\n",
       "      <td>0.373318</td>\n",
       "      <td>0.771033</td>\n",
       "      <td>-1.678508</td>\n",
       "      <td>0.216242</td>\n",
       "      <td>-0.010011</td>\n",
       "      <td>-0.290228</td>\n",
       "      <td>-2.277371</td>\n",
       "      <td>1.805380</td>\n",
       "    </tr>\n",
       "    <tr>\n",
       "      <th>1</th>\n",
       "      <td>-0.501592</td>\n",
       "      <td>0.477535</td>\n",
       "      <td>-0.818324</td>\n",
       "      <td>0.005912</td>\n",
       "      <td>-0.339459</td>\n",
       "      <td>-0.845942</td>\n",
       "      <td>-0.269841</td>\n",
       "      <td>-0.470813</td>\n",
       "      <td>-0.120837</td>\n",
       "      <td>-0.420508</td>\n",
       "      <td>...</td>\n",
       "      <td>0.874282</td>\n",
       "      <td>0.662371</td>\n",
       "      <td>0.234399</td>\n",
       "      <td>-0.370714</td>\n",
       "      <td>0.037434</td>\n",
       "      <td>0.453732</td>\n",
       "      <td>-0.241231</td>\n",
       "      <td>-0.115152</td>\n",
       "      <td>0.178597</td>\n",
       "      <td>1.912288</td>\n",
       "    </tr>\n",
       "    <tr>\n",
       "      <th>2</th>\n",
       "      <td>0.569859</td>\n",
       "      <td>0.875196</td>\n",
       "      <td>-0.482380</td>\n",
       "      <td>-0.319587</td>\n",
       "      <td>0.192587</td>\n",
       "      <td>-0.525620</td>\n",
       "      <td>0.119809</td>\n",
       "      <td>-0.800239</td>\n",
       "      <td>0.348511</td>\n",
       "      <td>1.025164</td>\n",
       "      <td>...</td>\n",
       "      <td>-0.689791</td>\n",
       "      <td>0.699319</td>\n",
       "      <td>0.784988</td>\n",
       "      <td>0.347139</td>\n",
       "      <td>-0.528773</td>\n",
       "      <td>-0.442096</td>\n",
       "      <td>1.243830</td>\n",
       "      <td>-0.234046</td>\n",
       "      <td>-0.598267</td>\n",
       "      <td>-0.224324</td>\n",
       "    </tr>\n",
       "    <tr>\n",
       "      <th>3</th>\n",
       "      <td>0.646397</td>\n",
       "      <td>0.863019</td>\n",
       "      <td>-0.369451</td>\n",
       "      <td>-0.269917</td>\n",
       "      <td>0.218722</td>\n",
       "      <td>-0.380078</td>\n",
       "      <td>0.220756</td>\n",
       "      <td>-0.657866</td>\n",
       "      <td>0.164402</td>\n",
       "      <td>0.995138</td>\n",
       "      <td>...</td>\n",
       "      <td>-0.353881</td>\n",
       "      <td>0.635696</td>\n",
       "      <td>0.854373</td>\n",
       "      <td>0.258188</td>\n",
       "      <td>-0.506764</td>\n",
       "      <td>-0.153199</td>\n",
       "      <td>-0.275395</td>\n",
       "      <td>0.256384</td>\n",
       "      <td>-0.462983</td>\n",
       "      <td>-0.168278</td>\n",
       "    </tr>\n",
       "    <tr>\n",
       "      <th>4</th>\n",
       "      <td>-0.104428</td>\n",
       "      <td>0.500702</td>\n",
       "      <td>-0.235760</td>\n",
       "      <td>0.499184</td>\n",
       "      <td>0.326228</td>\n",
       "      <td>-0.703426</td>\n",
       "      <td>0.129961</td>\n",
       "      <td>-0.646378</td>\n",
       "      <td>0.021471</td>\n",
       "      <td>0.558708</td>\n",
       "      <td>...</td>\n",
       "      <td>0.511698</td>\n",
       "      <td>0.621976</td>\n",
       "      <td>0.599310</td>\n",
       "      <td>-0.438184</td>\n",
       "      <td>-0.093311</td>\n",
       "      <td>0.377631</td>\n",
       "      <td>1.146646</td>\n",
       "      <td>0.051625</td>\n",
       "      <td>0.192849</td>\n",
       "      <td>0.498809</td>\n",
       "    </tr>\n",
       "  </tbody>\n",
       "</table>\n",
       "<p>5 rows × 30 columns</p>\n",
       "</div>"
      ],
      "text/plain": [
       "       Time        V1        V2        V3        V4        V5        V6  \\\n",
       "0 -0.363905 -0.507396 -0.303488  0.172905  0.862814  0.967363  0.719619   \n",
       "1 -0.501592  0.477535 -0.818324  0.005912 -0.339459 -0.845942 -0.269841   \n",
       "2  0.569859  0.875196 -0.482380 -0.319587  0.192587 -0.525620  0.119809   \n",
       "3  0.646397  0.863019 -0.369451 -0.269917  0.218722 -0.380078  0.220756   \n",
       "4 -0.104428  0.500702 -0.235760  0.499184  0.326228 -0.703426  0.129961   \n",
       "\n",
       "         V7        V8        V9  ...       V20       V21       V22       V23  \\\n",
       "0  0.950105 -1.000020  0.039252  ...  0.373636 -0.410086  0.373318  0.771033   \n",
       "1 -0.470813 -0.120837 -0.420508  ...  0.874282  0.662371  0.234399 -0.370714   \n",
       "2 -0.800239  0.348511  1.025164  ... -0.689791  0.699319  0.784988  0.347139   \n",
       "3 -0.657866  0.164402  0.995138  ... -0.353881  0.635696  0.854373  0.258188   \n",
       "4 -0.646378  0.021471  0.558708  ...  0.511698  0.621976  0.599310 -0.438184   \n",
       "\n",
       "        V24       V25       V26       V27       V28    Amount  \n",
       "0 -1.678508  0.216242 -0.010011 -0.290228 -2.277371  1.805380  \n",
       "1  0.037434  0.453732 -0.241231 -0.115152  0.178597  1.912288  \n",
       "2 -0.528773 -0.442096  1.243830 -0.234046 -0.598267 -0.224324  \n",
       "3 -0.506764 -0.153199 -0.275395  0.256384 -0.462983 -0.168278  \n",
       "4 -0.093311  0.377631  1.146646  0.051625  0.192849  0.498809  \n",
       "\n",
       "[5 rows x 30 columns]"
      ]
     },
     "execution_count": 29,
     "metadata": {},
     "output_type": "execute_result"
    }
   ],
   "source": [
    "from sklearn.preprocessing import RobustScaler\n",
    "\n",
    "# Using RobustScaler as it is less prone to outliers\n",
    "'''\n",
    "rob_scaler_time = RobustScaler().fit(X_train['Time'].values.reshape(-1, 1))\n",
    "X_train['Scaled_Time'] = rob_scaler_time.transform(X_train['Time'].values.reshape(-1, 1))\n",
    "X_test['Scaled_Time'] = rob_scaler_time.transform(X_test['Time'].values.reshape(-1, 1))\n",
    "\n",
    "rob_scaler_amount = RobustScaler().fit(X_train['Amount'].values.reshape(-1, 1))\n",
    "X_train['Scaled_Amount'] = rob_scaler_amount.transform(X_train['Amount'].values.reshape(-1, 1))\n",
    "X_test['Scaled_Amount'] = rob_scaler_amount.transform(X_test['Amount'].values.reshape(-1, 1))\n",
    "'''\n",
    "\n",
    "rob_scaler = RobustScaler().fit(X_train)\n",
    "X_train = pd.DataFrame(rob_scaler.transform(X_train), columns=X.columns)\n",
    "X_test = pd.DataFrame(rob_scaler.transform(X_test), columns=X.columns)\n",
    "\n",
    "X_train.head()"
   ]
  },
  {
   "cell_type": "code",
   "execution_count": 30,
   "metadata": {},
   "outputs": [],
   "source": [
    "# X_train.drop(['Time','Amount'], axis=1, inplace=True)\n",
    "# X_test.drop(['Time','Amount'], axis=1, inplace=True)"
   ]
  },
  {
   "cell_type": "code",
   "execution_count": 31,
   "metadata": {},
   "outputs": [
    {
     "data": {
      "text/html": [
       "<div>\n",
       "<style scoped>\n",
       "    .dataframe tbody tr th:only-of-type {\n",
       "        vertical-align: middle;\n",
       "    }\n",
       "\n",
       "    .dataframe tbody tr th {\n",
       "        vertical-align: top;\n",
       "    }\n",
       "\n",
       "    .dataframe thead th {\n",
       "        text-align: right;\n",
       "    }\n",
       "</style>\n",
       "<table border=\"1\" class=\"dataframe\">\n",
       "  <thead>\n",
       "    <tr style=\"text-align: right;\">\n",
       "      <th></th>\n",
       "      <th>Time</th>\n",
       "      <th>V1</th>\n",
       "      <th>V2</th>\n",
       "      <th>V3</th>\n",
       "      <th>V4</th>\n",
       "      <th>V5</th>\n",
       "      <th>V6</th>\n",
       "      <th>V7</th>\n",
       "      <th>V8</th>\n",
       "      <th>V9</th>\n",
       "      <th>...</th>\n",
       "      <th>V20</th>\n",
       "      <th>V21</th>\n",
       "      <th>V22</th>\n",
       "      <th>V23</th>\n",
       "      <th>V24</th>\n",
       "      <th>V25</th>\n",
       "      <th>V26</th>\n",
       "      <th>V27</th>\n",
       "      <th>V28</th>\n",
       "      <th>Amount</th>\n",
       "    </tr>\n",
       "  </thead>\n",
       "  <tbody>\n",
       "    <tr>\n",
       "      <th>0</th>\n",
       "      <td>-0.363905</td>\n",
       "      <td>-0.507396</td>\n",
       "      <td>-0.303488</td>\n",
       "      <td>0.172905</td>\n",
       "      <td>0.862814</td>\n",
       "      <td>0.967363</td>\n",
       "      <td>0.719619</td>\n",
       "      <td>0.950105</td>\n",
       "      <td>-1.000020</td>\n",
       "      <td>0.039252</td>\n",
       "      <td>...</td>\n",
       "      <td>0.373636</td>\n",
       "      <td>-0.410086</td>\n",
       "      <td>0.373318</td>\n",
       "      <td>0.771033</td>\n",
       "      <td>-1.678508</td>\n",
       "      <td>0.216242</td>\n",
       "      <td>-0.010011</td>\n",
       "      <td>-0.290228</td>\n",
       "      <td>-2.277371</td>\n",
       "      <td>1.805380</td>\n",
       "    </tr>\n",
       "    <tr>\n",
       "      <th>1</th>\n",
       "      <td>-0.501592</td>\n",
       "      <td>0.477535</td>\n",
       "      <td>-0.818324</td>\n",
       "      <td>0.005912</td>\n",
       "      <td>-0.339459</td>\n",
       "      <td>-0.845942</td>\n",
       "      <td>-0.269841</td>\n",
       "      <td>-0.470813</td>\n",
       "      <td>-0.120837</td>\n",
       "      <td>-0.420508</td>\n",
       "      <td>...</td>\n",
       "      <td>0.874282</td>\n",
       "      <td>0.662371</td>\n",
       "      <td>0.234399</td>\n",
       "      <td>-0.370714</td>\n",
       "      <td>0.037434</td>\n",
       "      <td>0.453732</td>\n",
       "      <td>-0.241231</td>\n",
       "      <td>-0.115152</td>\n",
       "      <td>0.178597</td>\n",
       "      <td>1.912288</td>\n",
       "    </tr>\n",
       "    <tr>\n",
       "      <th>2</th>\n",
       "      <td>0.569859</td>\n",
       "      <td>0.875196</td>\n",
       "      <td>-0.482380</td>\n",
       "      <td>-0.319587</td>\n",
       "      <td>0.192587</td>\n",
       "      <td>-0.525620</td>\n",
       "      <td>0.119809</td>\n",
       "      <td>-0.800239</td>\n",
       "      <td>0.348511</td>\n",
       "      <td>1.025164</td>\n",
       "      <td>...</td>\n",
       "      <td>-0.689791</td>\n",
       "      <td>0.699319</td>\n",
       "      <td>0.784988</td>\n",
       "      <td>0.347139</td>\n",
       "      <td>-0.528773</td>\n",
       "      <td>-0.442096</td>\n",
       "      <td>1.243830</td>\n",
       "      <td>-0.234046</td>\n",
       "      <td>-0.598267</td>\n",
       "      <td>-0.224324</td>\n",
       "    </tr>\n",
       "    <tr>\n",
       "      <th>3</th>\n",
       "      <td>0.646397</td>\n",
       "      <td>0.863019</td>\n",
       "      <td>-0.369451</td>\n",
       "      <td>-0.269917</td>\n",
       "      <td>0.218722</td>\n",
       "      <td>-0.380078</td>\n",
       "      <td>0.220756</td>\n",
       "      <td>-0.657866</td>\n",
       "      <td>0.164402</td>\n",
       "      <td>0.995138</td>\n",
       "      <td>...</td>\n",
       "      <td>-0.353881</td>\n",
       "      <td>0.635696</td>\n",
       "      <td>0.854373</td>\n",
       "      <td>0.258188</td>\n",
       "      <td>-0.506764</td>\n",
       "      <td>-0.153199</td>\n",
       "      <td>-0.275395</td>\n",
       "      <td>0.256384</td>\n",
       "      <td>-0.462983</td>\n",
       "      <td>-0.168278</td>\n",
       "    </tr>\n",
       "    <tr>\n",
       "      <th>4</th>\n",
       "      <td>-0.104428</td>\n",
       "      <td>0.500702</td>\n",
       "      <td>-0.235760</td>\n",
       "      <td>0.499184</td>\n",
       "      <td>0.326228</td>\n",
       "      <td>-0.703426</td>\n",
       "      <td>0.129961</td>\n",
       "      <td>-0.646378</td>\n",
       "      <td>0.021471</td>\n",
       "      <td>0.558708</td>\n",
       "      <td>...</td>\n",
       "      <td>0.511698</td>\n",
       "      <td>0.621976</td>\n",
       "      <td>0.599310</td>\n",
       "      <td>-0.438184</td>\n",
       "      <td>-0.093311</td>\n",
       "      <td>0.377631</td>\n",
       "      <td>1.146646</td>\n",
       "      <td>0.051625</td>\n",
       "      <td>0.192849</td>\n",
       "      <td>0.498809</td>\n",
       "    </tr>\n",
       "  </tbody>\n",
       "</table>\n",
       "<p>5 rows × 30 columns</p>\n",
       "</div>"
      ],
      "text/plain": [
       "       Time        V1        V2        V3        V4        V5        V6  \\\n",
       "0 -0.363905 -0.507396 -0.303488  0.172905  0.862814  0.967363  0.719619   \n",
       "1 -0.501592  0.477535 -0.818324  0.005912 -0.339459 -0.845942 -0.269841   \n",
       "2  0.569859  0.875196 -0.482380 -0.319587  0.192587 -0.525620  0.119809   \n",
       "3  0.646397  0.863019 -0.369451 -0.269917  0.218722 -0.380078  0.220756   \n",
       "4 -0.104428  0.500702 -0.235760  0.499184  0.326228 -0.703426  0.129961   \n",
       "\n",
       "         V7        V8        V9  ...       V20       V21       V22       V23  \\\n",
       "0  0.950105 -1.000020  0.039252  ...  0.373636 -0.410086  0.373318  0.771033   \n",
       "1 -0.470813 -0.120837 -0.420508  ...  0.874282  0.662371  0.234399 -0.370714   \n",
       "2 -0.800239  0.348511  1.025164  ... -0.689791  0.699319  0.784988  0.347139   \n",
       "3 -0.657866  0.164402  0.995138  ... -0.353881  0.635696  0.854373  0.258188   \n",
       "4 -0.646378  0.021471  0.558708  ...  0.511698  0.621976  0.599310 -0.438184   \n",
       "\n",
       "        V24       V25       V26       V27       V28    Amount  \n",
       "0 -1.678508  0.216242 -0.010011 -0.290228 -2.277371  1.805380  \n",
       "1  0.037434  0.453732 -0.241231 -0.115152  0.178597  1.912288  \n",
       "2 -0.528773 -0.442096  1.243830 -0.234046 -0.598267 -0.224324  \n",
       "3 -0.506764 -0.153199 -0.275395  0.256384 -0.462983 -0.168278  \n",
       "4 -0.093311  0.377631  1.146646  0.051625  0.192849  0.498809  \n",
       "\n",
       "[5 rows x 30 columns]"
      ]
     },
     "execution_count": 31,
     "metadata": {},
     "output_type": "execute_result"
    }
   ],
   "source": [
    "X_train.head()"
   ]
  },
  {
   "cell_type": "markdown",
   "metadata": {},
   "source": [
    "# <u> Hyperparameter Tuning of Logistic Regresion Model using Random Search</u>\n",
    "<h3> <a href=\"https://www.kaggle.com/willkoehrsen/intro-to-model-tuning-grid-and-random-search\"> This banger of a notebook by Will Koehrsen helped me a lot in understanding atleast the basics of hyperparameter tuning </a></h3>\n",
    "\n",
    "# Basic Hyperparameter Tuning components\n",
    "Objective function: takes in hyperparameters and returns the cross validation score we want to maximize or minimize\n",
    "\n",
    "Domain of hyperparameters: values over which we want to search\n",
    "\n",
    "Algorithm: method for selecting the next hyperparameter values to evaluate in the objective function\n",
    "\n",
    "Results: history of hyperparameters and cross validation scores\n",
    "\n",
    "# Grid Search\n",
    "For a given model, it takes in the domain of hyperparameter values and checks every possible combination to find which settings perform the best on an evaluation score specified. Very time consuming.\n",
    "\n",
    "\n",
    "# Random Search\n",
    "It takes in the domain as well, but it randomly selects the set of hyperparameters from the search space. Results in more evenly spaced out hyperparameter values and gives similar results to Grid Search albeit a bit lower. \n",
    "Generally used on an unknown dataset in order to get rough estimate of the domain in which the model performs well and then Grid Search can be implemented to increase the accuracy further. <br>Although in this model, I didn't really make the full use of the results of RandomSearch for GridSearch and just used the basic inbuilt functions."
   ]
  },
  {
   "cell_type": "markdown",
   "metadata": {},
   "source": [
    "# Logistic Regression Hyperparameters\n",
    "<h3> I tuned just the penalty and C parameters </h3>\n",
    "\n",
    "Here is the docstring for the listed parameters\n",
    "\n",
    "1. penalty : str, 'l1', 'l2', 'elasticnet' or 'none', optional (default='l2')\n",
    "    Used to specify the norm used in the penalization. The 'newton-cg',\n",
    "    'sag' and 'lbfgs' solvers support only l2 penalties. 'elasticnet' is\n",
    "    only supported by the 'saga' solver. If 'none' (not supported by the\n",
    "    liblinear solver), no regularization is applied.\n",
    "\n",
    "    .. versionadded:: 0.19\n",
    "       l1 penalty with SAGA solver (allowing 'multinomial' + L1)\n",
    "\n",
    "2. C : float, optional (default=1.0)\n",
    "    Inverse of regularization strength; must be a positive float.\n",
    "    Like in support vector machines, smaller values specify stronger\n",
    "    regularization.\n",
    "\n",
    "3. solver : str, {'newton-cg', 'lbfgs', 'liblinear', 'sag', 'saga'},              optional (default='liblinear').\n",
    "\n",
    "    Algorithm to use in the optimization problem.\n",
    "\n",
    "    - For small datasets, 'liblinear' is a good choice, whereas 'sag' and\n",
    "      'saga' are faster for large ones.\n",
    "    - For multiclass problems, only 'newton-cg', 'sag', 'saga' and 'lbfgs'\n",
    "      handle multinomial loss; 'liblinear' is limited to one-versus-rest\n",
    "      schemes.\n",
    "    - 'newton-cg', 'lbfgs', 'sag' and 'saga' handle L2 or no penalty\n",
    "    - 'liblinear' and 'saga' also handle L1 penalty\n",
    "    - 'saga' also supports 'elasticnet' penalty\n",
    "    - 'liblinear' does not handle no penalty\n",
    "\n",
    "    Note that 'sag' and 'saga' fast convergence is only guaranteed on\n",
    "    features with approximately the same scale. You can\n",
    "    preprocess the data with a scaler from sklearn.preprocessing.\n",
    "\n",
    "    .. versionadded:: 0.17\n",
    "       Stochastic Average Gradient descent solver.\n",
    "    .. versionadded:: 0.19\n",
    "       SAGA solver.\n",
    "    .. versionchanged:: 0.20\n",
    "        Default will change from 'liblinear' to 'lbfgs' in 0.22."
   ]
  },
  {
   "cell_type": "markdown",
   "metadata": {},
   "source": [
    "<h3> Hyperparameter grid dictionary: </h3>\n",
    "\n",
    "penalty takes values l1 and l2 which are the only two options available\n",
    "\n",
    "C is a list of 10 numbers containing the logspace from log10(0.001) to log10(1000) <br> Logspace is generally used for such parameters because we can cover a big range in a reasonable way in way fewer numbers as compared to something like a uniform distribution which is great for performing initial analysis and thus get a rough estimate of the best performing range for the parameter and then focus on it using other distributions.\n",
    "\n",
    "<h3> Setting up RandomizedSearchCV object </h3>\n",
    "We give the function, <br> the model for classification (LogisticRegression)<br> the hyperparameter grid (log_reg_params) <br> n_jobs = Number of jobs to run in parallel (-1 to use all processors) <br> n_iter trades off runtime vs quality of the solution."
   ]
  },
  {
   "cell_type": "code",
   "execution_count": 32,
   "metadata": {},
   "outputs": [
    {
     "data": {
      "text/plain": [
       "RandomizedSearchCV(cv=None, error_score=nan,\n",
       "                   estimator=LogisticRegression(C=1.0, class_weight=None,\n",
       "                                                dual=False, fit_intercept=True,\n",
       "                                                intercept_scaling=1,\n",
       "                                                l1_ratio=None, max_iter=100,\n",
       "                                                multi_class='auto', n_jobs=None,\n",
       "                                                penalty='l2', random_state=None,\n",
       "                                                solver='lbfgs', tol=0.0001,\n",
       "                                                verbose=0, warm_start=False),\n",
       "                   iid='deprecated', n_iter=50, n_jobs=-1,\n",
       "                   param_distributions={'C': [0.001, 0.004641588833612777,\n",
       "                                              0.021544346900318832, 0.1,\n",
       "                                              0.46415888336127775,\n",
       "                                              2.154434690031882, 10.0,\n",
       "                                              46.41588833612773,\n",
       "                                              215.44346900318823, 1000.0],\n",
       "                                        'penalty': ['l1', 'l2']},\n",
       "                   pre_dispatch='2*n_jobs', random_state=None, refit=True,\n",
       "                   return_train_score=False, scoring=None, verbose=5)"
      ]
     },
     "execution_count": 32,
     "metadata": {},
     "output_type": "execute_result"
    }
   ],
   "source": [
    "from sklearn.linear_model import LogisticRegression\n",
    "from sklearn.model_selection import RandomizedSearchCV\n",
    "\n",
    "# can also add the 'solver' parameter with values of liblinear and saga to the dictionary later 'solver': ['liblinear', 'saga']}\n",
    "\n",
    "rand_log_reg_params = {\"penalty\": ['l1', 'l2'], 'C': list(np.logspace(np.log10(0.001), np.log10(1000), num=10))} \n",
    "# It contains the estimator (LogisticRegression in our case and also the dictionary of hyperparameters)\n",
    "rand_log_reg = RandomizedSearchCV(LogisticRegression(), rand_log_reg_params, n_iter=50, verbose=5, n_jobs=-1)\n",
    "rand_log_reg"
   ]
  },
  {
   "cell_type": "markdown",
   "metadata": {},
   "source": [
    "# Cross Validation\n",
    "# k-Fold Cross Validation Algorithm (used to prevent overfitting)\n",
    "1. Shuffle the dataset randomly.\n",
    "2. Split the dataset into k groups\n",
    "3. For each unique group:\n",
    "    \n",
    "    3.1. Take the group as a hold out or test data set\n",
    "    \n",
    "    3.2. Take the remaining groups as a training data set\n",
    "    \n",
    "    3.3. Fit a model on the training set and evaluate it on the test set\n",
    "    \n",
    "    3.4. Retain the evaluation score and discard the model\n",
    "    \n",
    "4. Summarize the skill of the model using the sample of model evaluation scores\n",
    "\n",
    "# Stratified k-Fold Cross Validation\n",
    "In stratified k-fold cross-validation, the folds are selected so that \"***the mean response value is approximately equal in all the folds***\". In the case of a dichotomous classification, this means that each fold contains roughly the same proportions of the two types of class labels."
   ]
  },
  {
   "cell_type": "code",
   "execution_count": 33,
   "metadata": {},
   "outputs": [],
   "source": [
    "# Defining lists which will contain various metric values as cross-validation progresses\n",
    "accuracy_lst = []\n",
    "precision_lst = []\n",
    "recall_lst = []\n",
    "f1_lst = []\n",
    "auc_lst = []"
   ]
  },
  {
   "cell_type": "markdown",
   "metadata": {},
   "source": [
    "# Handling imbalance: Undersampling vs Oversampling\n",
    "<h3> Undersampling </h3>\n",
    "Undersampling techniques remove examples from the training dataset that belong to the majority class in order to better balance the class distribution, such as reducing the skew from a 1:100 to a 1:10, 1:2, or even a 1:1 class distribution. \n",
    "\n",
    "<h3> Oversampling </h3>\n",
    "This is different from oversampling that involves adding examples to the minority class in an effort to reduce the skew in the class distribution.\n",
    "\n",
    "Oversampling techniques are generally preferred over Undersampling techniques because they balance the dataset and at the same time do not result in loss of relevant data that Undersampling ends up doing. One of the primary reasons where undersampling comes into picture is when the data is very huge (containing sufficient minority examples) and minimizing cost of the project is a big factor."
   ]
  },
  {
   "attachments": {},
   "cell_type": "markdown",
   "metadata": {},
   "source": [
    "# SMOTE <a href=\"http://rikunert.com/SMOTE_explained\"> (Reference)</a>\n",
    "One of the most commonly used Oversampling techniques is <b> Synthetic Minority Oversampling Technique - SMOTE </b> <br>\n",
    "\n",
    "SMOTE synthesises new minority instances between existing (real) minority instances.\n",
    "\n",
    "Imagine that SMOTE draws lines between existing minority instances like this.\n",
    "<img src=\"SMOTE_Visualisation_1.jpg\">\n",
    "\n",
    "SMOTE then imagines new, synthetic minority instances somewhere on these lines.\n",
    "<img src=\"SMOTE_Visualisation_2.jpg\">"
   ]
  },
  {
   "attachments": {},
   "cell_type": "markdown",
   "metadata": {},
   "source": [
    "# Oversampling with Cross-Validation & Data Leakage\n",
    "You have to perform Oversampling within the Cross-Validation itself and not before it, otherwise it would lead to data leakage. \n",
    "\n",
    "This is because it is possible that by Oversampling before, you are pretty much duplicating data from one fold to another, which could end up being in the test fold, and due to this, the test data is not really unseen and it could lead to overfitting.\n",
    "\n",
    "<h3> Oversampling before Cross Validation (Wrong Way) </h3>\n",
    "\n",
    "<img src=\"Oversampling + Cross Validation.jpg\">\n",
    "\n",
    "<h3> Oversampling during Cross Validation (Right Way) </h3>\n",
    "\n",
    "<img src=\"Oversampling in Cross Validation.jpg\">"
   ]
  },
  {
   "cell_type": "code",
   "execution_count": 34,
   "metadata": {},
   "outputs": [
    {
     "name": "stdout",
     "output_type": "stream",
     "text": [
      "Fitting 5 folds for each of 20 candidates, totalling 100 fits\n"
     ]
    },
    {
     "name": "stderr",
     "output_type": "stream",
     "text": [
      "[Parallel(n_jobs=-1)]: Using backend LokyBackend with 4 concurrent workers.\n",
      "[Parallel(n_jobs=-1)]: Done  10 tasks      | elapsed:    9.5s\n",
      "[Parallel(n_jobs=-1)]: Done  64 tasks      | elapsed:  1.3min\n",
      "[Parallel(n_jobs=-1)]: Done 100 out of 100 | elapsed:  2.2min finished\n"
     ]
    },
    {
     "name": "stdout",
     "output_type": "stream",
     "text": [
      "Fitting 5 folds for each of 20 candidates, totalling 100 fits\n"
     ]
    },
    {
     "name": "stderr",
     "output_type": "stream",
     "text": [
      "[Parallel(n_jobs=-1)]: Using backend LokyBackend with 4 concurrent workers.\n",
      "[Parallel(n_jobs=-1)]: Done  10 tasks      | elapsed:    6.8s\n",
      "[Parallel(n_jobs=-1)]: Done  64 tasks      | elapsed:  1.4min\n",
      "[Parallel(n_jobs=-1)]: Done 100 out of 100 | elapsed:  2.4min finished\n"
     ]
    },
    {
     "name": "stdout",
     "output_type": "stream",
     "text": [
      "Fitting 5 folds for each of 20 candidates, totalling 100 fits\n"
     ]
    },
    {
     "name": "stderr",
     "output_type": "stream",
     "text": [
      "[Parallel(n_jobs=-1)]: Using backend LokyBackend with 4 concurrent workers.\n",
      "[Parallel(n_jobs=-1)]: Done  10 tasks      | elapsed:    7.0s\n",
      "[Parallel(n_jobs=-1)]: Done  64 tasks      | elapsed:  1.4min\n",
      "[Parallel(n_jobs=-1)]: Done 100 out of 100 | elapsed:  2.4min finished\n"
     ]
    },
    {
     "name": "stdout",
     "output_type": "stream",
     "text": [
      "Fitting 5 folds for each of 20 candidates, totalling 100 fits\n"
     ]
    },
    {
     "name": "stderr",
     "output_type": "stream",
     "text": [
      "[Parallel(n_jobs=-1)]: Using backend LokyBackend with 4 concurrent workers.\n",
      "[Parallel(n_jobs=-1)]: Done  10 tasks      | elapsed:    6.9s\n",
      "[Parallel(n_jobs=-1)]: Done  64 tasks      | elapsed:  1.3min\n",
      "[Parallel(n_jobs=-1)]: Done 100 out of 100 | elapsed:  2.4min finished\n"
     ]
    },
    {
     "name": "stdout",
     "output_type": "stream",
     "text": [
      "Fitting 5 folds for each of 20 candidates, totalling 100 fits\n"
     ]
    },
    {
     "name": "stderr",
     "output_type": "stream",
     "text": [
      "[Parallel(n_jobs=-1)]: Using backend LokyBackend with 4 concurrent workers.\n",
      "[Parallel(n_jobs=-1)]: Done  10 tasks      | elapsed:    7.0s\n",
      "[Parallel(n_jobs=-1)]: Done  64 tasks      | elapsed:  1.4min\n",
      "[Parallel(n_jobs=-1)]: Done 100 out of 100 | elapsed:  2.4min finished\n"
     ]
    },
    {
     "name": "stdout",
     "output_type": "stream",
     "text": [
      "Cross Validation Oversampling Training with Metric Calculations Completed\n"
     ]
    }
   ],
   "source": [
    "from sklearn.model_selection import StratifiedKFold\n",
    "from imblearn.pipeline import make_pipeline as imbalanced_make_pipeline\n",
    "from imblearn.over_sampling import SMOTE\n",
    "\n",
    "# Stratified 5 Fold\n",
    "sss = StratifiedKFold(n_splits=5, random_state=None)\n",
    "\n",
    "smote_model = SMOTE(sampling_strategy='minority', random_state=42)\n",
    "\n",
    "# Takes a lot of time to execute\n",
    "for train, test in sss.split(X_train, y_train):\n",
    "    # SMOTE happens during Cross Validation not before\n",
    "    pipeline = make_pipeline_imb(SMOTE(sampling_strategy='minority'), rand_log_reg) \n",
    "    \n",
    "    # Time consuming step\n",
    "    model = pipeline.fit(X_train.iloc[train], y_train.iloc[train])\n",
    "    best_est_rand = rand_log_reg.best_estimator_\n",
    "        \n",
    "    # Testing the best estimator (best_est) on the best performing set of parameters (inherently done by predict method)\n",
    "    prediction = best_est_rand.predict(X_train.iloc[test])\n",
    "    \n",
    "    # Appending metric scores to their respective list\n",
    "    accuracy_lst.append(pipeline.score(X_train.iloc[test], y_train.iloc[test]))\n",
    "    precision_lst.append(precision_score(y_train.iloc[test], prediction))\n",
    "    recall_lst.append(recall_score(y_train.iloc[test], prediction))\n",
    "    f1_lst.append(f1_score(y_train.iloc[test], prediction))\n",
    "    auc_lst.append(roc_auc_score(y_train.iloc[test], prediction))\n",
    "\n",
    "print(\"Cross Validation Oversampling Training with Metric Calculations Completed\")\n"
   ]
  },
  {
   "cell_type": "markdown",
   "metadata": {},
   "source": [
    "<h3> Best C Parameters obtained were around 0.0046 - 50, so we'll focus on this range while implementing GridSearch\n",
    "<br><br>Best penalty obtained was l2 in all cases so I've used that for GridSearch </h3>"
   ]
  },
  {
   "cell_type": "code",
   "execution_count": 35,
   "metadata": {},
   "outputs": [
    {
     "data": {
      "text/plain": [
       "{'C': 215.44346900318823,\n",
       " 'class_weight': None,\n",
       " 'dual': False,\n",
       " 'fit_intercept': True,\n",
       " 'intercept_scaling': 1,\n",
       " 'l1_ratio': None,\n",
       " 'max_iter': 100,\n",
       " 'multi_class': 'auto',\n",
       " 'n_jobs': None,\n",
       " 'penalty': 'l2',\n",
       " 'random_state': None,\n",
       " 'solver': 'lbfgs',\n",
       " 'tol': 0.0001,\n",
       " 'verbose': 0,\n",
       " 'warm_start': False}"
      ]
     },
     "execution_count": 35,
     "metadata": {},
     "output_type": "execute_result"
    }
   ],
   "source": [
    "best_est_rand.get_params()"
   ]
  },
  {
   "cell_type": "markdown",
   "metadata": {},
   "source": [
    "<h2> Printing the mean of the metric measures recorded in the lists </h2>\n",
    "\n",
    "<h3> Average Recall is 91% <br> <br> Average ROC AUC is 94% </h3>"
   ]
  },
  {
   "cell_type": "code",
   "execution_count": 36,
   "metadata": {
    "scrolled": false
   },
   "outputs": [
    {
     "name": "stdout",
     "output_type": "stream",
     "text": [
      "accuracy: 0.9775373609251904\n",
      "precision: 0.06663391412672201\n",
      "recall: 0.9137617656604998\n",
      "f1: 0.12414268826860328\n",
      "roc: 0.9457048498996252\n"
     ]
    }
   ],
   "source": [
    "print(\"accuracy:\", np.mean(accuracy_lst))\n",
    "print(\"precision:\", np.mean(precision_lst))\n",
    "print(\"recall:\", np.mean(recall_lst))\n",
    "print(\"f1:\", np.mean(f1_lst))\n",
    "print(\"roc:\", np.mean(auc_lst))"
   ]
  },
  {
   "cell_type": "markdown",
   "metadata": {},
   "source": [
    "<h3> On the actual test data X_test, we get Recall Score of 91% for Fraud Class</h3>"
   ]
  },
  {
   "cell_type": "code",
   "execution_count": 37,
   "metadata": {},
   "outputs": [
    {
     "name": "stdout",
     "output_type": "stream",
     "text": [
      "                   pre       rec       spe        f1       geo       iba       sup\n",
      "\n",
      "   No Fraud       1.00      0.97      0.91      0.99      0.94      0.89     56864\n",
      "      Fraud       0.06      0.91      0.97      0.11      0.94      0.88        98\n",
      "\n",
      "avg / total       1.00      0.97      0.91      0.99      0.94      0.89     56962\n",
      "\n"
     ]
    }
   ],
   "source": [
    "labels = ['No Fraud', 'Fraud']\n",
    "rand_log_reg_predictions = best_est_rand.predict(X_test)\n",
    "print(classification_report_imbalanced(y_test, rand_log_reg_predictions, target_names=labels))"
   ]
  },
  {
   "cell_type": "markdown",
   "metadata": {},
   "source": [
    "<h3> Average Precision-Recall Score on test data is 74% </h3>"
   ]
  },
  {
   "cell_type": "code",
   "execution_count": 42,
   "metadata": {},
   "outputs": [
    {
     "name": "stdout",
     "output_type": "stream",
     "text": [
      "Average precision-recall score: 0.73\n"
     ]
    }
   ],
   "source": [
    "from sklearn.metrics import average_precision_score\n",
    "\n",
    "# In the case of logistic regression, the predict_proba function returns the value of \"f(x)=1/1+e^(−(β0+β1x1+⋯+βkxk))\"\n",
    "# for given input X with k features\n",
    "\n",
    "# The decision function returns the value of \"d(x)=β0+β1x1+⋯+βkxk\"\n",
    "# The predict function returns 1 if value of predict_proba is > 0.5 else 0\n",
    "\n",
    "y_score = best_est_rand.predict_proba(X_test)[:, 1]\n",
    "average_precision = average_precision_score(y_test, y_score)\n",
    "\n",
    "print('Average precision-recall score: {0:0.2f}'.format(average_precision))"
   ]
  },
  {
   "cell_type": "markdown",
   "metadata": {},
   "source": [
    "<h3> Plotting the Precision-Recall Curve </h3>"
   ]
  },
  {
   "cell_type": "code",
   "execution_count": 39,
   "metadata": {},
   "outputs": [
    {
     "data": {
      "text/plain": [
       "<matplotlib.collections.PolyCollection at 0x27e60483220>"
      ]
     },
     "execution_count": 39,
     "metadata": {},
     "output_type": "execute_result"
    },
    {
     "data": {
      "image/png": "[encoded data removed]",
      "text/plain": [
       "<Figure size 720x432 with 1 Axes>"
      ]
     },
     "metadata": {
      "needs_background": "light"
     },
     "output_type": "display_data"
    }
   ],
   "source": [
    "from sklearn.metrics import precision_recall_curve\n",
    "\n",
    "precision, recall, _ = precision_recall_curve(y_test, y_score)\n",
    "\n",
    "precision_recall_df = pd.DataFrame({'precision': precision, 'recall': recall})\n",
    "\n",
    "plot_title = 'Precision-Recall Curve\\nAvg. Precision Recall Score=' + str(average_precision)\n",
    "plt.figure(figsize=(10, 6))\n",
    "sns.lineplot(x='recall',y='precision',data=precision_recall_df)\n",
    "plt.title(plot_title)\n",
    "plt.fill_between(recall, precision, color='lightblue')"
   ]
  },
  {
   "cell_type": "markdown",
   "metadata": {},
   "source": [
    "# Plotting the ROC Curve"
   ]
  },
  {
   "cell_type": "code",
   "execution_count": 40,
   "metadata": {},
   "outputs": [
    {
     "data": {
      "text/plain": [
       "Text(0.5, 1.0, 'ROC Curve\\nROC Score = 0.9787801973631323')"
      ]
     },
     "execution_count": 40,
     "metadata": {},
     "output_type": "execute_result"
    },
    {
     "data": {
      "image/png": "[encoded data removed]",
      "text/plain": [
       "<Figure size 720x432 with 1 Axes>"
      ]
     },
     "metadata": {
      "needs_background": "light"
     },
     "output_type": "display_data"
    }
   ],
   "source": [
    "from sklearn.metrics import roc_curve\n",
    "\n",
    "\n",
    "false_positive_rate, true_positive_rate, _ = roc_curve(y_test,  y_score)\n",
    "\n",
    "auc = roc_auc_score(y_test, y_score)\n",
    "\n",
    "roc_df = pd.DataFrame({'fpr': false_positive_rate, 'tpr': true_positive_rate})\n",
    "\n",
    "plot_title = 'ROC Curve\\nROC Score = ' + str(auc)\n",
    "\n",
    "plt.figure(figsize=(10, 6))\n",
    "sns.lineplot(x='fpr', y='tpr', data=roc_df)\n",
    "plt.fill_between(roc_df['fpr'], roc_df['tpr'], color='lightblue')\n",
    "plt.title(plot_title)"
   ]
  },
  {
   "cell_type": "code",
   "execution_count": 43,
   "metadata": {},
   "outputs": [
    {
     "data": {
      "text/plain": [
       "<matplotlib.axes._subplots.AxesSubplot at 0x27e5af097f0>"
      ]
     },
     "execution_count": 43,
     "metadata": {},
     "output_type": "execute_result"
    },
    {
     "data": {
      "image/png": "[encoded data removed]",
      "text/plain": [
       "<Figure size 720x432 with 2 Axes>"
      ]
     },
     "metadata": {
      "needs_background": "light"
     },
     "output_type": "display_data"
    }
   ],
   "source": [
    "from sklearn.metrics import confusion_matrix, plot_confusion_matrix\n",
    "\n",
    "confusion_matrix_log_reg = confusion_matrix(y_true=y_test, y_pred=rand_log_reg_predictions)\n",
    "\n",
    "plt.figure(figsize=(10,6))\n",
    "sns.heatmap(confusion_matrix_log_reg, annot=True, cmap='copper', fmt='d')"
   ]
  },
  {
   "cell_type": "markdown",
   "metadata": {},
   "source": [
    "# Using GridSearch to Fit the data and comparing with RandomSearch\n"
   ]
  },
  {
   "cell_type": "code",
   "execution_count": 44,
   "metadata": {},
   "outputs": [
    {
     "data": {
      "text/plain": [
       "GridSearchCV(cv=None, error_score=nan,\n",
       "             estimator=LogisticRegression(C=1.0, class_weight=None, dual=False,\n",
       "                                          fit_intercept=True,\n",
       "                                          intercept_scaling=1, l1_ratio=None,\n",
       "                                          max_iter=100, multi_class='auto',\n",
       "                                          n_jobs=None, penalty='l2',\n",
       "                                          random_state=None, solver='lbfgs',\n",
       "                                          tol=0.0001, verbose=0,\n",
       "                                          warm_start=False),\n",
       "             iid='deprecated', n_jobs=-1,\n",
       "             param_grid={'C': array([1.00000000e-03, 2....90e-03,\n",
       "       1.83298071e-02, 3.79269019e-02, 7.84759970e-02, 1.62377674e-01,\n",
       "       3.35981829e-01, 6.95192796e-01, 1.43844989e+00, 2.97635144e+00,\n",
       "       6.15848211e+00, 1.27427499e+01, 2.63665090e+01, 5.45559478e+01,\n",
       "       1.12883789e+02, 2.33572147e+02, 4.83293024e+02, 1.00000000e+03]),\n",
       "                         'penalty': ['l2']},\n",
       "             pre_dispatch='2*n_jobs', refit=True, return_train_score=False,\n",
       "             scoring=None, verbose=5)"
      ]
     },
     "execution_count": 44,
     "metadata": {},
     "output_type": "execute_result"
    }
   ],
   "source": [
    "from sklearn.model_selection import GridSearchCV\n",
    "\n",
    "# Chose only l2 and logspace from 0 to 50 in order to focus our search\n",
    "grid_log_reg_params = {\"penalty\": ['l2'], 'C': np.logspace(np.log10(0.001), np.log10(1000), 20)}\n",
    "\n",
    "# Creating a GridSearchCV model using the new grid_log_reg_params\n",
    "grid_log_reg = GridSearchCV(LogisticRegression(), grid_log_reg_params, verbose=5, n_jobs=-1)\n",
    "\n",
    "grid_log_reg"
   ]
  },
  {
   "cell_type": "code",
   "execution_count": 45,
   "metadata": {},
   "outputs": [],
   "source": [
    "# Redefining metric lists\n",
    "accuracy_lst = []\n",
    "precision_lst = []\n",
    "recall_lst = []\n",
    "f1_lst = []\n",
    "auc_lst = []"
   ]
  },
  {
   "cell_type": "markdown",
   "metadata": {},
   "source": [
    "<h3> Performing Cross-Validation and Oversampling again using GridSearch"
   ]
  },
  {
   "cell_type": "code",
   "execution_count": 46,
   "metadata": {},
   "outputs": [
    {
     "name": "stdout",
     "output_type": "stream",
     "text": [
      "Fitting 5 folds for each of 20 candidates, totalling 100 fits\n"
     ]
    },
    {
     "name": "stderr",
     "output_type": "stream",
     "text": [
      "[Parallel(n_jobs=-1)]: Using backend LokyBackend with 4 concurrent workers.\n",
      "[Parallel(n_jobs=-1)]: Done  10 tasks      | elapsed:   21.9s\n",
      "[Parallel(n_jobs=-1)]: Done  64 tasks      | elapsed:  3.0min\n",
      "[Parallel(n_jobs=-1)]: Done 100 out of 100 | elapsed:  4.8min finished\n"
     ]
    },
    {
     "name": "stdout",
     "output_type": "stream",
     "text": [
      "Fitting 5 folds for each of 20 candidates, totalling 100 fits\n"
     ]
    },
    {
     "name": "stderr",
     "output_type": "stream",
     "text": [
      "[Parallel(n_jobs=-1)]: Using backend LokyBackend with 4 concurrent workers.\n",
      "[Parallel(n_jobs=-1)]: Done  10 tasks      | elapsed:   20.5s\n",
      "[Parallel(n_jobs=-1)]: Done  64 tasks      | elapsed:  2.9min\n",
      "[Parallel(n_jobs=-1)]: Done 100 out of 100 | elapsed:  4.6min finished\n"
     ]
    },
    {
     "name": "stdout",
     "output_type": "stream",
     "text": [
      "Fitting 5 folds for each of 20 candidates, totalling 100 fits\n"
     ]
    },
    {
     "name": "stderr",
     "output_type": "stream",
     "text": [
      "[Parallel(n_jobs=-1)]: Using backend LokyBackend with 4 concurrent workers.\n",
      "[Parallel(n_jobs=-1)]: Done  10 tasks      | elapsed:   20.7s\n",
      "[Parallel(n_jobs=-1)]: Done  64 tasks      | elapsed:  2.9min\n",
      "[Parallel(n_jobs=-1)]: Done 100 out of 100 | elapsed:  5.0min finished\n"
     ]
    },
    {
     "name": "stdout",
     "output_type": "stream",
     "text": [
      "Fitting 5 folds for each of 20 candidates, totalling 100 fits\n"
     ]
    },
    {
     "name": "stderr",
     "output_type": "stream",
     "text": [
      "[Parallel(n_jobs=-1)]: Using backend LokyBackend with 4 concurrent workers.\n",
      "[Parallel(n_jobs=-1)]: Done  10 tasks      | elapsed:   22.2s\n",
      "[Parallel(n_jobs=-1)]: Done  64 tasks      | elapsed:  3.1min\n",
      "[Parallel(n_jobs=-1)]: Done 100 out of 100 | elapsed:  5.3min finished\n"
     ]
    },
    {
     "name": "stdout",
     "output_type": "stream",
     "text": [
      "Fitting 5 folds for each of 20 candidates, totalling 100 fits\n"
     ]
    },
    {
     "name": "stderr",
     "output_type": "stream",
     "text": [
      "[Parallel(n_jobs=-1)]: Using backend LokyBackend with 4 concurrent workers.\n",
      "[Parallel(n_jobs=-1)]: Done  10 tasks      | elapsed:   24.3s\n",
      "[Parallel(n_jobs=-1)]: Done  64 tasks      | elapsed:  3.2min\n",
      "[Parallel(n_jobs=-1)]: Done 100 out of 100 | elapsed:  5.0min finished\n"
     ]
    }
   ],
   "source": [
    "for train, test in sss.split(X_train, y_train):\n",
    "    grid_pipeline = make_pipeline_imb(SMOTE(sampling_strategy='minority'), grid_log_reg) \n",
    "    \n",
    "    # Time consuming step\n",
    "    model = grid_pipeline.fit(X_train.iloc[train], y_train.iloc[train])\n",
    "    best_est_grid = grid_log_reg.best_estimator_\n",
    "        \n",
    "    # Testing the best estimator (best_est) on the best performing set of parameters (inherently done by predict method)\n",
    "    prediction = best_est_grid.predict(X_train.iloc[test])\n",
    "    \n",
    "    # Appending metric scores to their respective list\n",
    "    accuracy_lst.append(grid_pipeline.score(X_train.iloc[test], y_train.iloc[test]))\n",
    "    precision_lst.append(precision_score(y_train.iloc[test], prediction))\n",
    "    recall_lst.append(recall_score(y_train.iloc[test], prediction))\n",
    "    f1_lst.append(f1_score(y_train.iloc[test], prediction))\n",
    "    auc_lst.append(roc_auc_score(y_train.iloc[test], prediction))"
   ]
  },
  {
   "cell_type": "code",
   "execution_count": 47,
   "metadata": {},
   "outputs": [
    {
     "name": "stdout",
     "output_type": "stream",
     "text": [
      "accuracy: 0.9774846935416622\n",
      "precision: 0.06654695640243788\n",
      "recall: 0.9137617656604998\n",
      "f1: 0.1239855307024835\n",
      "roc: 0.9456784705238995\n"
     ]
    }
   ],
   "source": [
    "print(\"accuracy:\", np.mean(accuracy_lst))\n",
    "print(\"precision:\", np.mean(precision_lst))\n",
    "print(\"recall:\", np.mean(recall_lst))\n",
    "print(\"f1:\", np.mean(f1_lst))\n",
    "print(\"roc:\", np.mean(auc_lst))"
   ]
  },
  {
   "cell_type": "code",
   "execution_count": 48,
   "metadata": {},
   "outputs": [
    {
     "name": "stdout",
     "output_type": "stream",
     "text": [
      "Classification Report for RandomSearchCV\n",
      "                   pre       rec       spe        f1       geo       iba       sup\n",
      "\n",
      "          0       1.00      0.97      0.91      0.99      0.94      0.89     56864\n",
      "          1       0.06      0.91      0.97      0.11      0.94      0.88        98\n",
      "\n",
      "avg / total       1.00      0.97      0.91      0.99      0.94      0.89     56962\n",
      "\n",
      "Classification Report for GridSearchCV\n",
      "                   pre       rec       spe        f1       geo       iba       sup\n",
      "\n",
      "          0       1.00      0.97      0.91      0.99      0.94      0.89     56864\n",
      "          1       0.06      0.91      0.97      0.11      0.94      0.88        98\n",
      "\n",
      "avg / total       1.00      0.97      0.91      0.99      0.94      0.89     56962\n",
      "\n"
     ]
    }
   ],
   "source": [
    "grid_log_reg_predictions = best_est_grid.predict(X_test)\n",
    "\n",
    "print(\"Classification Report for RandomSearchCV\")\n",
    "print(classification_report_imbalanced(y_true=y_test, y_pred=rand_log_reg_predictions))\n",
    "\n",
    "print(\"Classification Report for GridSearchCV\")\n",
    "print(classification_report_imbalanced(y_true=y_test, y_pred=grid_log_reg_predictions))\n"
   ]
  },
  {
   "cell_type": "markdown",
   "metadata": {},
   "source": [
    "<h3> Sadly, there was no improvement in the score, but oh well atleast I tried"
   ]
  },
  {
   "cell_type": "code",
   "execution_count": 49,
   "metadata": {},
   "outputs": [
    {
     "data": {
      "text/plain": [
       "<matplotlib.axes._subplots.AxesSubplot at 0x27e5c980370>"
      ]
     },
     "execution_count": 49,
     "metadata": {},
     "output_type": "execute_result"
    },
    {
     "data": {
      "image/png": "[encoded data removed]",
      "text/plain": [
       "<Figure size 720x432 with 2 Axes>"
      ]
     },
     "metadata": {
      "needs_background": "light"
     },
     "output_type": "display_data"
    }
   ],
   "source": [
    "from sklearn.metrics import confusion_matrix\n",
    "\n",
    "confusion_matrix_log_reg = confusion_matrix(y_true=y_test, y_pred=grid_log_reg_predictions)\n",
    "\n",
    "plt.figure(figsize=(10,6))\n",
    "sns.heatmap(confusion_matrix_log_reg, annot=True, cmap='copper', fmt='d')"
   ]
  },
  {
   "cell_type": "markdown",
   "metadata": {},
   "source": [
    "<h2> Average Precision-Recall Score on test data is 74% </h2>"
   ]
  },
  {
   "cell_type": "code",
   "execution_count": 50,
   "metadata": {},
   "outputs": [
    {
     "data": {
      "text/plain": [
       "0.7271564068038641"
      ]
     },
     "execution_count": 50,
     "metadata": {},
     "output_type": "execute_result"
    }
   ],
   "source": [
    "y_score = best_est_grid.predict_proba(X_test)[:, 1]\n",
    "\n",
    "average_precision_score(y_test, y_score)"
   ]
  },
  {
   "cell_type": "markdown",
   "metadata": {},
   "source": [
    "<h2> Average ROC AUC Score on test data is 98% </h2>"
   ]
  },
  {
   "cell_type": "code",
   "execution_count": 51,
   "metadata": {},
   "outputs": [
    {
     "data": {
      "text/plain": [
       "0.9793129758937903"
      ]
     },
     "execution_count": 51,
     "metadata": {},
     "output_type": "execute_result"
    }
   ],
   "source": [
    "roc_auc_score(y_test, y_score)"
   ]
  }
 ],
 "metadata": {
  "kernelspec": {
   "display_name": "Python 3",
   "language": "python",
   "name": "python3"
  },
  "language_info": {
   "codemirror_mode": {
    "name": "ipython",
    "version": 3
   },
   "file_extension": ".py",
   "mimetype": "text/x-python",
   "name": "python",
   "nbconvert_exporter": "python",
   "pygments_lexer": "ipython3",
   "version": "3.8.2"
  }
 },
 "nbformat": 4,
 "nbformat_minor": 1
}
